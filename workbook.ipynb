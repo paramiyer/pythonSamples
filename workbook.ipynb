{
 "cells": [
  {
   "cell_type": "code",
   "execution_count": null,
   "metadata": {},
   "outputs": [],
   "source": [
    "import numpy as np"
   ]
  },
  {
   "cell_type": "code",
   "execution_count": null,
   "metadata": {},
   "outputs": [],
   "source": [
    "x = np.random.random((2,3))"
   ]
  },
  {
   "cell_type": "code",
   "execution_count": null,
   "metadata": {},
   "outputs": [],
   "source": [
    "x"
   ]
  },
  {
   "cell_type": "code",
   "execution_count": null,
   "metadata": {},
   "outputs": [],
   "source": [
    "x[x>0.4]  = 1"
   ]
  },
  {
   "cell_type": "code",
   "execution_count": null,
   "metadata": {},
   "outputs": [],
   "source": [
    "x"
   ]
  },
  {
   "cell_type": "code",
   "execution_count": null,
   "metadata": {},
   "outputs": [],
   "source": [
    "def temp(row = 1, col = 0, logical = True):\n",
    "    if row == 0 or col == 0:\n",
    "        dim = max(row,col)\n",
    "        result = np.random.random(dim)\n",
    "    else:\n",
    "        result = np.random.random((row,col))\n",
    "    if logical == True:\n",
    "        result[result>0.5] = 1\n",
    "        result[result<=0.5] = 0\n",
    "        \n",
    "    return(result)"
   ]
  },
  {
   "cell_type": "code",
   "execution_count": null,
   "metadata": {},
   "outputs": [],
   "source": [
    "temp(250,7).shape"
   ]
  },
  {
   "cell_type": "code",
   "execution_count": null,
   "metadata": {},
   "outputs": [],
   "source": [
    "x = temp(30000,9)"
   ]
  },
  {
   "cell_type": "code",
   "execution_count": null,
   "metadata": {},
   "outputs": [],
   "source": [
    "x.shape"
   ]
  },
  {
   "cell_type": "code",
   "execution_count": 1,
   "metadata": {},
   "outputs": [],
   "source": [
    "from paramUtils import *"
   ]
  },
  {
   "cell_type": "code",
   "execution_count": 2,
   "metadata": {},
   "outputs": [
    {
     "name": "stdout",
     "output_type": "stream",
     "text": [
      "Help on function random2D in module paramUtils:\n",
      "\n",
      "random2D(row=1, col=0, logical=True)\n",
      "    A simple generator for random 2d matrix \n",
      "    \n",
      "    Attributes\n",
      "    __________\n",
      "    row :: int \n",
      "        number of rows, default = 1\n",
      "    col :: int\n",
      "        number of cols, default = 0\n",
      "    Logical :: bool\n",
      "        type of the output matrix, if True a binary matrix, default = True\n",
      "        \n",
      "    Values\n",
      "    ______\n",
      "    A row*col matrix\n",
      "    Default output, single rv between (0,1)\n",
      "\n"
     ]
    }
   ],
   "source": [
    "help(random2D)"
   ]
  }
 ],
 "metadata": {
  "kernelspec": {
   "display_name": "Python 3",
   "language": "python",
   "name": "python3"
  },
  "language_info": {
   "codemirror_mode": {
    "name": "ipython",
    "version": 3
   },
   "file_extension": ".py",
   "mimetype": "text/x-python",
   "name": "python",
   "nbconvert_exporter": "python",
   "pygments_lexer": "ipython3",
   "version": "3.6.10"
  }
 },
 "nbformat": 4,
 "nbformat_minor": 2
}
